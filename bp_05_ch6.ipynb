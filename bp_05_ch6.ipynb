{
  "nbformat": 4,
  "nbformat_minor": 0,
  "metadata": {
    "colab": {
      "provenance": [],
      "authorship_tag": "ABX9TyP5Xi2ARuqZUPCVSg1SaNxI",
      "include_colab_link": true
    },
    "kernelspec": {
      "name": "python3",
      "display_name": "Python 3"
    },
    "language_info": {
      "name": "python"
    }
  },
  "cells": [
    {
      "cell_type": "markdown",
      "metadata": {
        "id": "view-in-github",
        "colab_type": "text"
      },
      "source": [
        "<a href=\"https://colab.research.google.com/github/miseoa/BP_05_Ch06/blob/main/bp_05_ch6.ipynb\" target=\"_parent\"><img src=\"https://colab.research.google.com/assets/colab-badge.svg\" alt=\"Open In Colab\"/></a>"
      ]
    },
    {
      "cell_type": "markdown",
      "source": [
        "01. 2부터 100사이까지 모든 짝수를 출력하는 반복 루프를 작성한다."
      ],
      "metadata": {
        "id": "vX635oWfqEN_"
      }
    },
    {
      "cell_type": "code",
      "source": [
        "for i in range(2,101,2):\n",
        "  print(i,end=\"\")"
      ],
      "metadata": {
        "colab": {
          "base_uri": "https://localhost:8080/"
        },
        "id": "fn3VP_ilq0jU",
        "outputId": "58fe9358-a74a-4aaf-ff70-c68db730e0dd"
      },
      "execution_count": 1,
      "outputs": [
        {
          "output_type": "stream",
          "name": "stdout",
          "text": [
            "2468101214161820222426283032343638404244464850525456586062646668707274767880828486889092949698100"
          ]
        }
      ]
    },
    {
      "cell_type": "markdown",
      "source": [
        "2. 어떤 사람이 복리이자율 7^로 1000만원을 저금했을 경우에 2000만원이 되는데 몇 년이 걸리는지 계산하기 위하여 다음과 코드를 작성하였다. 잘못된 점은 없는지 체크해 보자."
      ],
      "metadata": {
        "id": "4vMeRiswqf3_"
      }
    },
    {
      "cell_type": "code",
      "source": [
        "year=0\n",
        "balance=1000\n",
        "\n",
        "while balance <= 2000:\n",
        "  year =year +1\n",
        "  interest =balance *0.07\n",
        "  balance=balance+interest\n",
        "print(year, \"년 걸립니다.\")"
      ],
      "metadata": {
        "colab": {
          "base_uri": "https://localhost:8080/"
        },
        "id": "Cjbo2MGirFCL",
        "outputId": "6eb2f114-8f71-4a1e-bd73-aec42cf99ef1"
      },
      "execution_count": 3,
      "outputs": [
        {
          "output_type": "stream",
          "name": "stdout",
          "text": [
            "11 년 걸립니다.\n"
          ]
        }
      ]
    },
    {
      "cell_type": "markdown",
      "source": [
        "3. 다음 코드의 출력을 예상해보자. 각 단계에서 변수의 값을 예상해보시오."
      ],
      "metadata": {
        "id": "wM6CxJcUqi3E"
      }
    },
    {
      "cell_type": "code",
      "source": [
        "n= 1234\n",
        "sum= 0\n",
        "while n> 0:\n",
        "  digit =n %10\n",
        "  sum=sum+digit\n",
        "  n=n//10\n",
        "print(sum)"
      ],
      "metadata": {
        "colab": {
          "base_uri": "https://localhost:8080/"
        },
        "id": "tL-HsFxzrjea",
        "outputId": "7443b464-277f-4916-a825-3cb064784b76"
      },
      "execution_count": 4,
      "outputs": [
        {
          "output_type": "stream",
          "name": "stdout",
          "text": [
            "10\n"
          ]
        }
      ]
    }
  ]
}